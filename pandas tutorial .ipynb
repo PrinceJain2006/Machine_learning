{
 "cells": [
  {
   "cell_type": "markdown",
   "id": "bdc31470-41ad-4b95-850a-a26bf2c22e39",
   "metadata": {},
   "source": [
    "# Pandas tutorial\n",
    "- panda is a open source,BSD-licensed liberary provides a high-performance,esy to use data structure.\n",
    "- and data analysis tools for the python programming."
   ]
  },
  {
   "cell_type": "markdown",
   "id": "68034bb7-eba7-44ee-a18e-01ab26360358",
   "metadata": {},
   "source": [
    "Agenda  \n",
    "- what is Data frame?  >: pandas load the datab\n",
    "- \n",
    "**Answer**-- Data frame combination both column or rows it will basically show you represention format how your data exectly looks like in exelsheet\n",
    "- in the same way loaded..\n",
    "- what is Data series?\n",
    "- different operation in pandas?"
   ]
  },
  {
   "cell_type": "code",
   "execution_count": 1,
   "id": "ddffdfbe-1065-4474-bbb3-ea659205b6c8",
   "metadata": {},
   "outputs": [],
   "source": [
    "# first step is to import pandas \n",
    "\n",
    "import pandas as pd\n",
    "import numpy as np"
   ]
  },
  {
   "cell_type": "code",
   "execution_count": 2,
   "id": "e3adf852-95e8-4722-968a-7f3704d80b5c",
   "metadata": {},
   "outputs": [],
   "source": [
    "# playing with DataFrame \n",
    "df =pd.DataFrame(np.arange(0,20).reshape(5,4),index=['Row1','Row2','Row3','Row4','Row5'],columns=[\"coloumn1\",\"coloumn2\",\"coloumn3\",\"coloumn4\"])"
   ]
  },
  {
   "cell_type": "code",
   "execution_count": 3,
   "id": "8b8de6a0-e59f-4b05-98d5-9d8cdf1e4984",
   "metadata": {},
   "outputs": [
    {
     "data": {
      "text/html": [
       "<div>\n",
       "<style scoped>\n",
       "    .dataframe tbody tr th:only-of-type {\n",
       "        vertical-align: middle;\n",
       "    }\n",
       "\n",
       "    .dataframe tbody tr th {\n",
       "        vertical-align: top;\n",
       "    }\n",
       "\n",
       "    .dataframe thead th {\n",
       "        text-align: right;\n",
       "    }\n",
       "</style>\n",
       "<table border=\"1\" class=\"dataframe\">\n",
       "  <thead>\n",
       "    <tr style=\"text-align: right;\">\n",
       "      <th></th>\n",
       "      <th>coloumn1</th>\n",
       "      <th>coloumn2</th>\n",
       "      <th>coloumn3</th>\n",
       "      <th>coloumn4</th>\n",
       "    </tr>\n",
       "  </thead>\n",
       "  <tbody>\n",
       "    <tr>\n",
       "      <th>Row1</th>\n",
       "      <td>0</td>\n",
       "      <td>1</td>\n",
       "      <td>2</td>\n",
       "      <td>3</td>\n",
       "    </tr>\n",
       "    <tr>\n",
       "      <th>Row2</th>\n",
       "      <td>4</td>\n",
       "      <td>5</td>\n",
       "      <td>6</td>\n",
       "      <td>7</td>\n",
       "    </tr>\n",
       "    <tr>\n",
       "      <th>Row3</th>\n",
       "      <td>8</td>\n",
       "      <td>9</td>\n",
       "      <td>10</td>\n",
       "      <td>11</td>\n",
       "    </tr>\n",
       "    <tr>\n",
       "      <th>Row4</th>\n",
       "      <td>12</td>\n",
       "      <td>13</td>\n",
       "      <td>14</td>\n",
       "      <td>15</td>\n",
       "    </tr>\n",
       "    <tr>\n",
       "      <th>Row5</th>\n",
       "      <td>16</td>\n",
       "      <td>17</td>\n",
       "      <td>18</td>\n",
       "      <td>19</td>\n",
       "    </tr>\n",
       "  </tbody>\n",
       "</table>\n",
       "</div>"
      ],
      "text/plain": [
       "      coloumn1  coloumn2  coloumn3  coloumn4\n",
       "Row1         0         1         2         3\n",
       "Row2         4         5         6         7\n",
       "Row3         8         9        10        11\n",
       "Row4        12        13        14        15\n",
       "Row5        16        17        18        19"
      ]
     },
     "execution_count": 3,
     "metadata": {},
     "output_type": "execute_result"
    }
   ],
   "source": [
    "df.head()"
   ]
  },
  {
   "cell_type": "code",
   "execution_count": 4,
   "id": "015838f8-4967-469e-bac3-5fb4c9ee217e",
   "metadata": {},
   "outputs": [],
   "source": [
    "df.to_csv('test1.csv')   ## this give you an excelsheet. on another file"
   ]
  },
  {
   "cell_type": "code",
   "execution_count": 5,
   "id": "c4b0855c-1a7f-4dbb-8192-e49a0b807993",
   "metadata": {},
   "outputs": [],
   "source": [
    "df.to_csv('test2.csv')  "
   ]
  },
  {
   "cell_type": "code",
   "execution_count": 6,
   "id": "914b63ec-77af-43d5-b263-7849b86cf87c",
   "metadata": {},
   "outputs": [
    {
     "data": {
      "text/plain": [
       "coloumn1    0\n",
       "coloumn2    1\n",
       "coloumn3    2\n",
       "coloumn4    3\n",
       "Name: Row1, dtype: int32"
      ]
     },
     "execution_count": 6,
     "metadata": {},
     "output_type": "execute_result"
    }
   ],
   "source": [
    "## Accessing the elements\n",
    "# 1.  .loc >: normal also \n",
    "# 2   .iloc >: index locations both row and coloumn\n",
    "\n",
    "df.loc['Row1']"
   ]
  },
  {
   "cell_type": "code",
   "execution_count": 7,
   "id": "c1b25682-db54-411f-98cc-5c293bc704de",
   "metadata": {},
   "outputs": [
    {
     "data": {
      "text/plain": [
       "3"
      ]
     },
     "execution_count": 7,
     "metadata": {},
     "output_type": "execute_result"
    }
   ],
   "source": [
    "df.loc['Row1','coloumn4']"
   ]
  },
  {
   "cell_type": "code",
   "execution_count": 8,
   "id": "e242fd77-2fcb-40c0-a620-d78a3131b360",
   "metadata": {},
   "outputs": [
    {
     "data": {
      "text/plain": [
       "5"
      ]
     },
     "execution_count": 8,
     "metadata": {},
     "output_type": "execute_result"
    }
   ],
   "source": [
    "df.loc['Row2','coloumn2']"
   ]
  },
  {
   "cell_type": "code",
   "execution_count": 9,
   "id": "09c31ec5-5139-42ec-959a-573cc93ca505",
   "metadata": {},
   "outputs": [
    {
     "data": {
      "text/html": [
       "<div>\n",
       "<style scoped>\n",
       "    .dataframe tbody tr th:only-of-type {\n",
       "        vertical-align: middle;\n",
       "    }\n",
       "\n",
       "    .dataframe tbody tr th {\n",
       "        vertical-align: top;\n",
       "    }\n",
       "\n",
       "    .dataframe thead th {\n",
       "        text-align: right;\n",
       "    }\n",
       "</style>\n",
       "<table border=\"1\" class=\"dataframe\">\n",
       "  <thead>\n",
       "    <tr style=\"text-align: right;\">\n",
       "      <th></th>\n",
       "      <th>coloumn1</th>\n",
       "      <th>coloumn2</th>\n",
       "      <th>coloumn3</th>\n",
       "      <th>coloumn4</th>\n",
       "    </tr>\n",
       "  </thead>\n",
       "  <tbody>\n",
       "    <tr>\n",
       "      <th>Row1</th>\n",
       "      <td>0</td>\n",
       "      <td>1</td>\n",
       "      <td>2</td>\n",
       "      <td>3</td>\n",
       "    </tr>\n",
       "    <tr>\n",
       "      <th>Row2</th>\n",
       "      <td>4</td>\n",
       "      <td>5</td>\n",
       "      <td>6</td>\n",
       "      <td>7</td>\n",
       "    </tr>\n",
       "    <tr>\n",
       "      <th>Row3</th>\n",
       "      <td>8</td>\n",
       "      <td>9</td>\n",
       "      <td>10</td>\n",
       "      <td>11</td>\n",
       "    </tr>\n",
       "    <tr>\n",
       "      <th>Row4</th>\n",
       "      <td>12</td>\n",
       "      <td>13</td>\n",
       "      <td>14</td>\n",
       "      <td>15</td>\n",
       "    </tr>\n",
       "    <tr>\n",
       "      <th>Row5</th>\n",
       "      <td>16</td>\n",
       "      <td>17</td>\n",
       "      <td>18</td>\n",
       "      <td>19</td>\n",
       "    </tr>\n",
       "  </tbody>\n",
       "</table>\n",
       "</div>"
      ],
      "text/plain": [
       "      coloumn1  coloumn2  coloumn3  coloumn4\n",
       "Row1         0         1         2         3\n",
       "Row2         4         5         6         7\n",
       "Row3         8         9        10        11\n",
       "Row4        12        13        14        15\n",
       "Row5        16        17        18        19"
      ]
     },
     "execution_count": 9,
     "metadata": {},
     "output_type": "execute_result"
    }
   ],
   "source": [
    "df.iloc[:,:]"
   ]
  },
  {
   "cell_type": "code",
   "execution_count": 10,
   "id": "397f2f58-ea2d-41c7-922b-c0211eb60467",
   "metadata": {},
   "outputs": [
    {
     "data": {
      "text/html": [
       "<div>\n",
       "<style scoped>\n",
       "    .dataframe tbody tr th:only-of-type {\n",
       "        vertical-align: middle;\n",
       "    }\n",
       "\n",
       "    .dataframe tbody tr th {\n",
       "        vertical-align: top;\n",
       "    }\n",
       "\n",
       "    .dataframe thead th {\n",
       "        text-align: right;\n",
       "    }\n",
       "</style>\n",
       "<table border=\"1\" class=\"dataframe\">\n",
       "  <thead>\n",
       "    <tr style=\"text-align: right;\">\n",
       "      <th></th>\n",
       "      <th>coloumn1</th>\n",
       "      <th>coloumn2</th>\n",
       "    </tr>\n",
       "  </thead>\n",
       "  <tbody>\n",
       "    <tr>\n",
       "      <th>Row1</th>\n",
       "      <td>0</td>\n",
       "      <td>1</td>\n",
       "    </tr>\n",
       "    <tr>\n",
       "      <th>Row2</th>\n",
       "      <td>4</td>\n",
       "      <td>5</td>\n",
       "    </tr>\n",
       "  </tbody>\n",
       "</table>\n",
       "</div>"
      ],
      "text/plain": [
       "      coloumn1  coloumn2\n",
       "Row1         0         1\n",
       "Row2         4         5"
      ]
     },
     "execution_count": 10,
     "metadata": {},
     "output_type": "execute_result"
    }
   ],
   "source": [
    "df.iloc[0:2,0:2]        # for gating three rows 0:3\n",
    "                # and wants just two coloumn 0:2  "
   ]
  },
  {
   "cell_type": "code",
   "execution_count": 11,
   "id": "410beb76-ef2f-49d7-ad85-afe50c432d63",
   "metadata": {},
   "outputs": [
    {
     "data": {
      "text/plain": [
       "pandas.core.frame.DataFrame"
      ]
     },
     "execution_count": 11,
     "metadata": {},
     "output_type": "execute_result"
    }
   ],
   "source": [
    "type(df.iloc[0:2,0:2]) "
   ]
  },
  {
   "cell_type": "code",
   "execution_count": 12,
   "id": "7dcfd323-c8fa-4230-8d56-1ce2ceaaa9fc",
   "metadata": {},
   "outputs": [
    {
     "data": {
      "text/plain": [
       "pandas.core.indexing._iLocIndexer"
      ]
     },
     "execution_count": 12,
     "metadata": {},
     "output_type": "execute_result"
    }
   ],
   "source": [
    "type(df.iloc)"
   ]
  },
  {
   "cell_type": "code",
   "execution_count": 13,
   "id": "feea6737-538f-41c7-aa4d-bf6313cc3cb7",
   "metadata": {},
   "outputs": [
    {
     "data": {
      "text/html": [
       "<div>\n",
       "<style scoped>\n",
       "    .dataframe tbody tr th:only-of-type {\n",
       "        vertical-align: middle;\n",
       "    }\n",
       "\n",
       "    .dataframe tbody tr th {\n",
       "        vertical-align: top;\n",
       "    }\n",
       "\n",
       "    .dataframe thead th {\n",
       "        text-align: right;\n",
       "    }\n",
       "</style>\n",
       "<table border=\"1\" class=\"dataframe\">\n",
       "  <thead>\n",
       "    <tr style=\"text-align: right;\">\n",
       "      <th></th>\n",
       "      <th>coloumn2</th>\n",
       "      <th>coloumn3</th>\n",
       "      <th>coloumn4</th>\n",
       "    </tr>\n",
       "  </thead>\n",
       "  <tbody>\n",
       "    <tr>\n",
       "      <th>Row1</th>\n",
       "      <td>1</td>\n",
       "      <td>2</td>\n",
       "      <td>3</td>\n",
       "    </tr>\n",
       "    <tr>\n",
       "      <th>Row2</th>\n",
       "      <td>5</td>\n",
       "      <td>6</td>\n",
       "      <td>7</td>\n",
       "    </tr>\n",
       "    <tr>\n",
       "      <th>Row3</th>\n",
       "      <td>9</td>\n",
       "      <td>10</td>\n",
       "      <td>11</td>\n",
       "    </tr>\n",
       "    <tr>\n",
       "      <th>Row4</th>\n",
       "      <td>13</td>\n",
       "      <td>14</td>\n",
       "      <td>15</td>\n",
       "    </tr>\n",
       "    <tr>\n",
       "      <th>Row5</th>\n",
       "      <td>17</td>\n",
       "      <td>18</td>\n",
       "      <td>19</td>\n",
       "    </tr>\n",
       "  </tbody>\n",
       "</table>\n",
       "</div>"
      ],
      "text/plain": [
       "      coloumn2  coloumn3  coloumn4\n",
       "Row1         1         2         3\n",
       "Row2         5         6         7\n",
       "Row3         9        10        11\n",
       "Row4        13        14        15\n",
       "Row5        17        18        19"
      ]
     },
     "execution_count": 13,
     "metadata": {},
     "output_type": "execute_result"
    }
   ],
   "source": [
    "## take the elements from the column2\n",
    "df.iloc[:,1:]"
   ]
  },
  {
   "cell_type": "code",
   "execution_count": 14,
   "id": "7af750c8-bb9d-4761-ae69-8e363a7ad1d6",
   "metadata": {},
   "outputs": [
    {
     "data": {
      "text/plain": [
       "array([[ 1,  2,  3],\n",
       "       [ 5,  6,  7],\n",
       "       [ 9, 10, 11],\n",
       "       [13, 14, 15],\n",
       "       [17, 18, 19]])"
      ]
     },
     "execution_count": 14,
     "metadata": {},
     "output_type": "execute_result"
    }
   ],
   "source": [
    "#convert Dataframe into array \n",
    "df.iloc[:,1:].values  \n",
    "\n",
    "# this .value will convert dataframe into array\n"
   ]
  },
  {
   "cell_type": "code",
   "execution_count": 15,
   "id": "4523ee64-7473-48f8-9873-f233a47c8625",
   "metadata": {},
   "outputs": [
    {
     "data": {
      "text/plain": [
       "(5, 4)"
      ]
     },
     "execution_count": 15,
     "metadata": {},
     "output_type": "execute_result"
    }
   ],
   "source": [
    "df.iloc[:,:].values.shape"
   ]
  },
  {
   "cell_type": "code",
   "execution_count": 16,
   "id": "8738de9a-9abf-41c6-8ee7-8f2a95c544eb",
   "metadata": {},
   "outputs": [
    {
     "data": {
      "text/plain": [
       "coloumn1    0\n",
       "coloumn2    0\n",
       "coloumn3    0\n",
       "coloumn4    0\n",
       "dtype: int64"
      ]
     },
     "execution_count": 16,
     "metadata": {},
     "output_type": "execute_result"
    }
   ],
   "source": [
    "## **how to check null condition \n",
    "\n",
    "df.isnull().sum()"
   ]
  },
  {
   "cell_type": "code",
   "execution_count": 17,
   "id": "083b887e-f59b-43ad-aa27-d3dfc9b69bfc",
   "metadata": {},
   "outputs": [
    {
     "data": {
      "text/html": [
       "<div>\n",
       "<style scoped>\n",
       "    .dataframe tbody tr th:only-of-type {\n",
       "        vertical-align: middle;\n",
       "    }\n",
       "\n",
       "    .dataframe tbody tr th {\n",
       "        vertical-align: top;\n",
       "    }\n",
       "\n",
       "    .dataframe thead th {\n",
       "        text-align: right;\n",
       "    }\n",
       "</style>\n",
       "<table border=\"1\" class=\"dataframe\">\n",
       "  <thead>\n",
       "    <tr style=\"text-align: right;\">\n",
       "      <th></th>\n",
       "      <th>coloumn1</th>\n",
       "      <th>coloumn2</th>\n",
       "      <th>coloumn3</th>\n",
       "      <th>coloumn4</th>\n",
       "    </tr>\n",
       "  </thead>\n",
       "  <tbody>\n",
       "    <tr>\n",
       "      <th>Row1</th>\n",
       "      <td>0</td>\n",
       "      <td>1</td>\n",
       "      <td>2</td>\n",
       "      <td>3</td>\n",
       "    </tr>\n",
       "    <tr>\n",
       "      <th>Row2</th>\n",
       "      <td>4</td>\n",
       "      <td>5</td>\n",
       "      <td>6</td>\n",
       "      <td>7</td>\n",
       "    </tr>\n",
       "    <tr>\n",
       "      <th>Row3</th>\n",
       "      <td>8</td>\n",
       "      <td>9</td>\n",
       "      <td>10</td>\n",
       "      <td>11</td>\n",
       "    </tr>\n",
       "    <tr>\n",
       "      <th>Row4</th>\n",
       "      <td>12</td>\n",
       "      <td>13</td>\n",
       "      <td>14</td>\n",
       "      <td>15</td>\n",
       "    </tr>\n",
       "    <tr>\n",
       "      <th>Row5</th>\n",
       "      <td>16</td>\n",
       "      <td>17</td>\n",
       "      <td>18</td>\n",
       "      <td>19</td>\n",
       "    </tr>\n",
       "  </tbody>\n",
       "</table>\n",
       "</div>"
      ],
      "text/plain": [
       "      coloumn1  coloumn2  coloumn3  coloumn4\n",
       "Row1         0         1         2         3\n",
       "Row2         4         5         6         7\n",
       "Row3         8         9        10        11\n",
       "Row4        12        13        14        15\n",
       "Row5        16        17        18        19"
      ]
     },
     "execution_count": 17,
     "metadata": {},
     "output_type": "execute_result"
    }
   ],
   "source": [
    "df"
   ]
  },
  {
   "cell_type": "code",
   "execution_count": 18,
   "id": "7201b28c-4419-4527-90d6-87ef917f1c4c",
   "metadata": {},
   "outputs": [
    {
     "data": {
      "text/plain": [
       "coloumn1\n",
       "0     1\n",
       "4     1\n",
       "8     1\n",
       "12    1\n",
       "16    1\n",
       "Name: count, dtype: int64"
      ]
     },
     "execution_count": 18,
     "metadata": {},
     "output_type": "execute_result"
    }
   ],
   "source": [
    "df['coloumn1'].value_counts()"
   ]
  },
  {
   "cell_type": "code",
   "execution_count": 19,
   "id": "bf395ac2-7920-4f3b-bd55-5bd77ca89d93",
   "metadata": {},
   "outputs": [
    {
     "data": {
      "text/plain": [
       "array([ 0,  4,  8, 12, 16])"
      ]
     },
     "execution_count": 19,
     "metadata": {},
     "output_type": "execute_result"
    }
   ],
   "source": [
    "df['coloumn1'].unique()"
   ]
  },
  {
   "cell_type": "code",
   "execution_count": 20,
   "id": "c3d1c41e-848f-4998-a045-4817d68068f6",
   "metadata": {},
   "outputs": [
    {
     "data": {
      "text/html": [
       "<div>\n",
       "<style scoped>\n",
       "    .dataframe tbody tr th:only-of-type {\n",
       "        vertical-align: middle;\n",
       "    }\n",
       "\n",
       "    .dataframe tbody tr th {\n",
       "        vertical-align: top;\n",
       "    }\n",
       "\n",
       "    .dataframe thead th {\n",
       "        text-align: right;\n",
       "    }\n",
       "</style>\n",
       "<table border=\"1\" class=\"dataframe\">\n",
       "  <thead>\n",
       "    <tr style=\"text-align: right;\">\n",
       "      <th></th>\n",
       "      <th>coloumn3</th>\n",
       "      <th>coloumn4</th>\n",
       "    </tr>\n",
       "  </thead>\n",
       "  <tbody>\n",
       "    <tr>\n",
       "      <th>Row1</th>\n",
       "      <td>2</td>\n",
       "      <td>3</td>\n",
       "    </tr>\n",
       "    <tr>\n",
       "      <th>Row2</th>\n",
       "      <td>6</td>\n",
       "      <td>7</td>\n",
       "    </tr>\n",
       "    <tr>\n",
       "      <th>Row3</th>\n",
       "      <td>10</td>\n",
       "      <td>11</td>\n",
       "    </tr>\n",
       "    <tr>\n",
       "      <th>Row4</th>\n",
       "      <td>14</td>\n",
       "      <td>15</td>\n",
       "    </tr>\n",
       "    <tr>\n",
       "      <th>Row5</th>\n",
       "      <td>18</td>\n",
       "      <td>19</td>\n",
       "    </tr>\n",
       "  </tbody>\n",
       "</table>\n",
       "</div>"
      ],
      "text/plain": [
       "      coloumn3  coloumn4\n",
       "Row1         2         3\n",
       "Row2         6         7\n",
       "Row3        10        11\n",
       "Row4        14        15\n",
       "Row5        18        19"
      ]
     },
     "execution_count": 20,
     "metadata": {},
     "output_type": "execute_result"
    }
   ],
   "source": [
    "df[['coloumn3','coloumn4']]  #for 1 or 2 or more coloumn need two brackets [[]] \n",
    "                             #you have to create a list for multiple coloumn   "
   ]
  },
  {
   "cell_type": "markdown",
   "id": "cc4d174d-ffcf-427c-a369-fc9f5de63fe4",
   "metadata": {},
   "source": [
    "# Reading csv file  "
   ]
  },
  {
   "cell_type": "code",
   "execution_count": 21,
   "id": "d67fe772-39f5-4ec4-8871-796daa1c7bce",
   "metadata": {},
   "outputs": [],
   "source": [
    "df=pd.read_csv('Test1.csv')   # coma seperated value (CVS)"
   ]
  },
  {
   "cell_type": "code",
   "execution_count": 22,
   "id": "7e9f551b-f6fe-48b2-bffd-6efa993041c2",
   "metadata": {},
   "outputs": [],
   "source": [
    "df=pd.read_csv('Test1.csv')   # coma seperated value (CVS)"
   ]
  },
  {
   "cell_type": "code",
   "execution_count": 23,
   "id": "de24f8e4-fda6-4b2d-bc9f-192c245507a2",
   "metadata": {},
   "outputs": [
    {
     "data": {
      "text/html": [
       "<div>\n",
       "<style scoped>\n",
       "    .dataframe tbody tr th:only-of-type {\n",
       "        vertical-align: middle;\n",
       "    }\n",
       "\n",
       "    .dataframe tbody tr th {\n",
       "        vertical-align: top;\n",
       "    }\n",
       "\n",
       "    .dataframe thead th {\n",
       "        text-align: right;\n",
       "    }\n",
       "</style>\n",
       "<table border=\"1\" class=\"dataframe\">\n",
       "  <thead>\n",
       "    <tr style=\"text-align: right;\">\n",
       "      <th></th>\n",
       "      <th>Unnamed: 0</th>\n",
       "      <th>coloumn1</th>\n",
       "      <th>coloumn2</th>\n",
       "      <th>coloumn3</th>\n",
       "      <th>coloumn4</th>\n",
       "    </tr>\n",
       "  </thead>\n",
       "  <tbody>\n",
       "    <tr>\n",
       "      <th>0</th>\n",
       "      <td>Row1</td>\n",
       "      <td>0</td>\n",
       "      <td>1</td>\n",
       "      <td>2</td>\n",
       "      <td>3</td>\n",
       "    </tr>\n",
       "    <tr>\n",
       "      <th>1</th>\n",
       "      <td>Row2</td>\n",
       "      <td>4</td>\n",
       "      <td>5</td>\n",
       "      <td>6</td>\n",
       "      <td>7</td>\n",
       "    </tr>\n",
       "    <tr>\n",
       "      <th>2</th>\n",
       "      <td>Row3</td>\n",
       "      <td>8</td>\n",
       "      <td>9</td>\n",
       "      <td>10</td>\n",
       "      <td>11</td>\n",
       "    </tr>\n",
       "    <tr>\n",
       "      <th>3</th>\n",
       "      <td>Row4</td>\n",
       "      <td>12</td>\n",
       "      <td>13</td>\n",
       "      <td>14</td>\n",
       "      <td>15</td>\n",
       "    </tr>\n",
       "    <tr>\n",
       "      <th>4</th>\n",
       "      <td>Row5</td>\n",
       "      <td>16</td>\n",
       "      <td>17</td>\n",
       "      <td>18</td>\n",
       "      <td>19</td>\n",
       "    </tr>\n",
       "  </tbody>\n",
       "</table>\n",
       "</div>"
      ],
      "text/plain": [
       "  Unnamed: 0  coloumn1  coloumn2  coloumn3  coloumn4\n",
       "0       Row1         0         1         2         3\n",
       "1       Row2         4         5         6         7\n",
       "2       Row3         8         9        10        11\n",
       "3       Row4        12        13        14        15\n",
       "4       Row5        16        17        18        19"
      ]
     },
     "execution_count": 23,
     "metadata": {},
     "output_type": "execute_result"
    }
   ],
   "source": [
    "df.head()"
   ]
  },
  {
   "cell_type": "code",
   "execution_count": 24,
   "id": "f5bf24eb-d7dd-4b62-88b2-62d6f89cbd6e",
   "metadata": {},
   "outputs": [
    {
     "name": "stdout",
     "output_type": "stream",
     "text": [
      "<class 'pandas.core.frame.DataFrame'>\n",
      "RangeIndex: 5 entries, 0 to 4\n",
      "Data columns (total 5 columns):\n",
      " #   Column      Non-Null Count  Dtype \n",
      "---  ------      --------------  ----- \n",
      " 0   Unnamed: 0  5 non-null      object\n",
      " 1   coloumn1    5 non-null      int64 \n",
      " 2   coloumn2    5 non-null      int64 \n",
      " 3   coloumn3    5 non-null      int64 \n",
      " 4   coloumn4    5 non-null      int64 \n",
      "dtypes: int64(4), object(1)\n",
      "memory usage: 332.0+ bytes\n"
     ]
    }
   ],
   "source": [
    "df.info()"
   ]
  },
  {
   "cell_type": "code",
   "execution_count": 25,
   "id": "8f7a6135-5fd2-4db8-8f44-3070c224db20",
   "metadata": {},
   "outputs": [
    {
     "data": {
      "text/html": [
       "<div>\n",
       "<style scoped>\n",
       "    .dataframe tbody tr th:only-of-type {\n",
       "        vertical-align: middle;\n",
       "    }\n",
       "\n",
       "    .dataframe tbody tr th {\n",
       "        vertical-align: top;\n",
       "    }\n",
       "\n",
       "    .dataframe thead th {\n",
       "        text-align: right;\n",
       "    }\n",
       "</style>\n",
       "<table border=\"1\" class=\"dataframe\">\n",
       "  <thead>\n",
       "    <tr style=\"text-align: right;\">\n",
       "      <th></th>\n",
       "      <th>coloumn1</th>\n",
       "      <th>coloumn2</th>\n",
       "      <th>coloumn3</th>\n",
       "      <th>coloumn4</th>\n",
       "    </tr>\n",
       "  </thead>\n",
       "  <tbody>\n",
       "    <tr>\n",
       "      <th>count</th>\n",
       "      <td>5.000000</td>\n",
       "      <td>5.000000</td>\n",
       "      <td>5.000000</td>\n",
       "      <td>5.000000</td>\n",
       "    </tr>\n",
       "    <tr>\n",
       "      <th>mean</th>\n",
       "      <td>8.000000</td>\n",
       "      <td>9.000000</td>\n",
       "      <td>10.000000</td>\n",
       "      <td>11.000000</td>\n",
       "    </tr>\n",
       "    <tr>\n",
       "      <th>std</th>\n",
       "      <td>6.324555</td>\n",
       "      <td>6.324555</td>\n",
       "      <td>6.324555</td>\n",
       "      <td>6.324555</td>\n",
       "    </tr>\n",
       "    <tr>\n",
       "      <th>min</th>\n",
       "      <td>0.000000</td>\n",
       "      <td>1.000000</td>\n",
       "      <td>2.000000</td>\n",
       "      <td>3.000000</td>\n",
       "    </tr>\n",
       "    <tr>\n",
       "      <th>25%</th>\n",
       "      <td>4.000000</td>\n",
       "      <td>5.000000</td>\n",
       "      <td>6.000000</td>\n",
       "      <td>7.000000</td>\n",
       "    </tr>\n",
       "    <tr>\n",
       "      <th>50%</th>\n",
       "      <td>8.000000</td>\n",
       "      <td>9.000000</td>\n",
       "      <td>10.000000</td>\n",
       "      <td>11.000000</td>\n",
       "    </tr>\n",
       "    <tr>\n",
       "      <th>75%</th>\n",
       "      <td>12.000000</td>\n",
       "      <td>13.000000</td>\n",
       "      <td>14.000000</td>\n",
       "      <td>15.000000</td>\n",
       "    </tr>\n",
       "    <tr>\n",
       "      <th>max</th>\n",
       "      <td>16.000000</td>\n",
       "      <td>17.000000</td>\n",
       "      <td>18.000000</td>\n",
       "      <td>19.000000</td>\n",
       "    </tr>\n",
       "  </tbody>\n",
       "</table>\n",
       "</div>"
      ],
      "text/plain": [
       "        coloumn1   coloumn2   coloumn3   coloumn4\n",
       "count   5.000000   5.000000   5.000000   5.000000\n",
       "mean    8.000000   9.000000  10.000000  11.000000\n",
       "std     6.324555   6.324555   6.324555   6.324555\n",
       "min     0.000000   1.000000   2.000000   3.000000\n",
       "25%     4.000000   5.000000   6.000000   7.000000\n",
       "50%     8.000000   9.000000  10.000000  11.000000\n",
       "75%    12.000000  13.000000  14.000000  15.000000\n",
       "max    16.000000  17.000000  18.000000  19.000000"
      ]
     },
     "execution_count": 25,
     "metadata": {},
     "output_type": "execute_result"
    }
   ],
   "source": [
    "df.describe()"
   ]
  },
  {
   "cell_type": "code",
   "execution_count": 26,
   "id": "3f6d0c94-7563-4938-8217-ebe7281d5673",
   "metadata": {},
   "outputs": [
    {
     "data": {
      "text/plain": [
       "array([ 0,  4,  8, 12, 16], dtype=int64)"
      ]
     },
     "execution_count": 26,
     "metadata": {},
     "output_type": "execute_result"
    }
   ],
   "source": [
    "# get the unique catagory counts\n",
    "df['coloumn1'].unique()"
   ]
  },
  {
   "cell_type": "code",
   "execution_count": 27,
   "id": "e9f90d3a-9ffd-42f1-9d82-1430ba58d361",
   "metadata": {},
   "outputs": [
    {
     "data": {
      "text/plain": [
       "coloumn1\n",
       "0     1\n",
       "4     1\n",
       "8     1\n",
       "12    1\n",
       "16    1\n",
       "Name: count, dtype: int64"
      ]
     },
     "execution_count": 27,
     "metadata": {},
     "output_type": "execute_result"
    }
   ],
   "source": [
    "# get the uniqe catagory counyts\n",
    "df['coloumn1'].value_counts()"
   ]
  },
  {
   "cell_type": "code",
   "execution_count": null,
   "id": "04dcfaa3-b060-456c-ba85-5e9584155bc6",
   "metadata": {},
   "outputs": [],
   "source": []
  },
  {
   "cell_type": "markdown",
   "id": "b8cca2e8-31eb-4588-8c67-fbe2e86de6c4",
   "metadata": {},
   "source": [
    "# CSV "
   ]
  },
  {
   "cell_type": "code",
   "execution_count": 28,
   "id": "19978c07-07e7-4177-b1da-64c33ff35994",
   "metadata": {},
   "outputs": [],
   "source": [
    "# from io import stringIo, Bytes"
   ]
  },
  {
   "cell_type": "code",
   "execution_count": 30,
   "id": "15aba650-c21f-4e83-9c20-174f529faefc",
   "metadata": {},
   "outputs": [],
   "source": [
    "import pandas as pd\n",
    "import io as stringIo\n",
    "import numpy as np"
   ]
  },
  {
   "cell_type": "code",
   "execution_count": 31,
   "id": "2fa9bcad-4cd8-42f4-883a-d3eb0a45196e",
   "metadata": {},
   "outputs": [],
   "source": [
    "# specifing coloumns data type \n",
    "data = ('a,b,c,d\\n'\n",
    "          '1,2,3,4\\n'\n",
    "          '5,6,7\\n'\n",
    "          '8,9,10,11' )"
   ]
  },
  {
   "cell_type": "code",
   "execution_count": 32,
   "id": "e0ca162a-59d1-4f3c-ade5-2df873926a92",
   "metadata": {},
   "outputs": [
    {
     "name": "stdout",
     "output_type": "stream",
     "text": [
      "a,b,c,d\n",
      "1,2,3,4\n",
      "5,6,7\n",
      "8,9,10,11\n"
     ]
    }
   ],
   "source": [
    "print(data)"
   ]
  },
  {
   "cell_type": "code",
   "execution_count": 33,
   "id": "ca45caa3-ee46-4d01-b7d3-f7892f8938ae",
   "metadata": {},
   "outputs": [
    {
     "ename": "NameError",
     "evalue": "name 'test1' is not defined",
     "output_type": "error",
     "traceback": [
      "\u001b[1;31m---------------------------------------------------------------------------\u001b[0m",
      "\u001b[1;31mNameError\u001b[0m                                 Traceback (most recent call last)",
      "Cell \u001b[1;32mIn[33], line 1\u001b[0m\n\u001b[1;32m----> 1\u001b[0m df\u001b[38;5;241m=\u001b[39mpd\u001b[38;5;241m.\u001b[39mread_csv(test1(data),dtype\u001b[38;5;241m=\u001b[39m\u001b[38;5;28mint\u001b[39m)\n",
      "\u001b[1;31mNameError\u001b[0m: name 'test1' is not defined"
     ]
    }
   ],
   "source": [
    "df=pd.read_csv(test1(data),dtype=int)"
   ]
  },
  {
   "cell_type": "code",
   "execution_count": 34,
   "id": "480c1bb3-4a51-4934-a1d4-b9979602512e",
   "metadata": {},
   "outputs": [],
   "source": [
    "data = ('index,a,b,c\\n'\n",
    "            '4,orange,bat,5.6\\n'\n",
    "            '8,apple,cow,10\\n' )"
   ]
  },
  {
   "cell_type": "code",
   "execution_count": 35,
   "id": "4c2be3b9-6d67-48a0-9f31-2cab23ea69c8",
   "metadata": {},
   "outputs": [
    {
     "name": "stdout",
     "output_type": "stream",
     "text": [
      "index,a,b,c\n",
      "4,orange,bat,5.6\n",
      "8,apple,cow,10\n",
      "\n"
     ]
    }
   ],
   "source": [
    "print(data)"
   ]
  },
  {
   "cell_type": "code",
   "execution_count": 36,
   "id": "3b386492-1a63-40c1-9bd1-017cf8051cca",
   "metadata": {},
   "outputs": [
    {
     "ename": "AttributeError",
     "evalue": "module 'pandas' has no attribute 'read_cvs'",
     "output_type": "error",
     "traceback": [
      "\u001b[1;31m---------------------------------------------------------------------------\u001b[0m",
      "\u001b[1;31mAttributeError\u001b[0m                            Traceback (most recent call last)",
      "Cell \u001b[1;32mIn[36], line 1\u001b[0m\n\u001b[1;32m----> 1\u001b[0m pd\u001b[38;5;241m.\u001b[39mread_cvs(stringIo(data))\n",
      "\u001b[1;31mAttributeError\u001b[0m: module 'pandas' has no attribute 'read_cvs'"
     ]
    }
   ],
   "source": [
    "pd.read_cvs(stringIo(data))"
   ]
  },
  {
   "cell_type": "code",
   "execution_count": 37,
   "id": "6384215e-3441-4120-a051-091a00fb24af",
   "metadata": {},
   "outputs": [],
   "source": [
    "## URL to CSVs \n",
    "s = pd.Series([1,2,3,4,5])\n"
   ]
  },
  {
   "cell_type": "code",
   "execution_count": 42,
   "id": "0477e8da-56b3-42d3-beea-081143ee53aa",
   "metadata": {},
   "outputs": [
    {
     "data": {
      "text/plain": [
       "0    1\n",
       "1    2\n",
       "2    3\n",
       "3    4\n",
       "4    5\n",
       "dtype: int64"
      ]
     },
     "execution_count": 42,
     "metadata": {},
     "output_type": "execute_result"
    }
   ],
   "source": [
    "s"
   ]
  },
  {
   "cell_type": "code",
   "execution_count": 50,
   "id": "9403c69b-c42d-4798-90fe-ebe3e6a49192",
   "metadata": {},
   "outputs": [],
   "source": [
    "df = pd.DataFrame(np.arange(0,9).reshape(3,3),index=['Row1','Row2','Row3'],columns=[\"coloumn1\",\"coloumn2\",\"coloumn3\"])"
   ]
  },
  {
   "cell_type": "code",
   "execution_count": 51,
   "id": "ca6229c5-511b-47be-881a-ac12367b951b",
   "metadata": {},
   "outputs": [
    {
     "data": {
      "text/html": [
       "<div>\n",
       "<style scoped>\n",
       "    .dataframe tbody tr th:only-of-type {\n",
       "        vertical-align: middle;\n",
       "    }\n",
       "\n",
       "    .dataframe tbody tr th {\n",
       "        vertical-align: top;\n",
       "    }\n",
       "\n",
       "    .dataframe thead th {\n",
       "        text-align: right;\n",
       "    }\n",
       "</style>\n",
       "<table border=\"1\" class=\"dataframe\">\n",
       "  <thead>\n",
       "    <tr style=\"text-align: right;\">\n",
       "      <th></th>\n",
       "      <th>coloumn1</th>\n",
       "      <th>coloumn2</th>\n",
       "      <th>coloumn3</th>\n",
       "    </tr>\n",
       "  </thead>\n",
       "  <tbody>\n",
       "    <tr>\n",
       "      <th>Row1</th>\n",
       "      <td>0</td>\n",
       "      <td>1</td>\n",
       "      <td>2</td>\n",
       "    </tr>\n",
       "    <tr>\n",
       "      <th>Row2</th>\n",
       "      <td>3</td>\n",
       "      <td>4</td>\n",
       "      <td>5</td>\n",
       "    </tr>\n",
       "    <tr>\n",
       "      <th>Row3</th>\n",
       "      <td>6</td>\n",
       "      <td>7</td>\n",
       "      <td>8</td>\n",
       "    </tr>\n",
       "  </tbody>\n",
       "</table>\n",
       "</div>"
      ],
      "text/plain": [
       "      coloumn1  coloumn2  coloumn3\n",
       "Row1         0         1         2\n",
       "Row2         3         4         5\n",
       "Row3         6         7         8"
      ]
     },
     "execution_count": 51,
     "metadata": {},
     "output_type": "execute_result"
    }
   ],
   "source": [
    "df"
   ]
  },
  {
   "cell_type": "code",
   "execution_count": 52,
   "id": "07e21876-e157-477e-b3bf-46ff27a686d0",
   "metadata": {},
   "outputs": [],
   "source": [
    "df = pd.DataFrame({\"names\":[\"prince\",\"jain\",\"oppp\"],\"marks\":[100,59,60]})"
   ]
  },
  {
   "cell_type": "code",
   "execution_count": 53,
   "id": "fe2e62f3-2d3d-45df-96be-9ed19103adda",
   "metadata": {},
   "outputs": [
    {
     "data": {
      "text/html": [
       "<div>\n",
       "<style scoped>\n",
       "    .dataframe tbody tr th:only-of-type {\n",
       "        vertical-align: middle;\n",
       "    }\n",
       "\n",
       "    .dataframe tbody tr th {\n",
       "        vertical-align: top;\n",
       "    }\n",
       "\n",
       "    .dataframe thead th {\n",
       "        text-align: right;\n",
       "    }\n",
       "</style>\n",
       "<table border=\"1\" class=\"dataframe\">\n",
       "  <thead>\n",
       "    <tr style=\"text-align: right;\">\n",
       "      <th></th>\n",
       "      <th>names</th>\n",
       "      <th>marks</th>\n",
       "    </tr>\n",
       "  </thead>\n",
       "  <tbody>\n",
       "    <tr>\n",
       "      <th>0</th>\n",
       "      <td>prince</td>\n",
       "      <td>100</td>\n",
       "    </tr>\n",
       "    <tr>\n",
       "      <th>1</th>\n",
       "      <td>jain</td>\n",
       "      <td>59</td>\n",
       "    </tr>\n",
       "    <tr>\n",
       "      <th>2</th>\n",
       "      <td>oppp</td>\n",
       "      <td>60</td>\n",
       "    </tr>\n",
       "  </tbody>\n",
       "</table>\n",
       "</div>"
      ],
      "text/plain": [
       "    names  marks\n",
       "0  prince    100\n",
       "1    jain     59\n",
       "2    oppp     60"
      ]
     },
     "execution_count": 53,
     "metadata": {},
     "output_type": "execute_result"
    }
   ],
   "source": [
    "df"
   ]
  },
  {
   "cell_type": "markdown",
   "id": "f269c9e5-f811-48e4-bcd4-ce47d85df2c5",
   "metadata": {},
   "source": [
    "# Read Json to csv"
   ]
  },
  {
   "cell_type": "code",
   "execution_count": 89,
   "id": "2131e7d4-0d9c-4f19-bd05-149b22d48150",
   "metadata": {},
   "outputs": [
    {
     "name": "stderr",
     "output_type": "stream",
     "text": [
      "C:\\Users\\Prince\\AppData\\Local\\Temp\\ipykernel_19936\\4179621270.py:2: FutureWarning: Passing literal json to 'read_json' is deprecated and will be removed in a future version. To read from a literal string, wrap it in a 'StringIO' object.\n",
      "  df1=pd.read_json(Data)\n"
     ]
    }
   ],
   "source": [
    "Data = '{\"employee_name\": \"prince jain\", \"email\": \"princejain566@gmail.com\", \"job_profile\": [{\"title1\":\"Team lead\",\"title2\":\"sr.developer\"}]}'\n",
    "df1=pd.read_json(Data)"
   ]
  },
  {
   "cell_type": "code",
   "execution_count": 83,
   "id": "86af12a0-56b9-4e11-b122-538ac6dd21d6",
   "metadata": {},
   "outputs": [],
   "source": [
    "import pandas as pd\n",
    "import numpy as np\n",
    "\n",
    "data = {\n",
    "\t\"One\": {\n",
    "\t\t\"0\": 60,\n",
    "\t\t\"1\": 60,\n",
    "\t\t\"2\": 60,\n",
    "\t\t\"3\": 45,\n",
    "\t\t\"4\": 45,\n",
    "\t\t\"5\": 60\n",
    "\t},\n",
    "\t\"Two\": {\n",
    "\t\t\"0\": 110,\n",
    "\t\t\"1\": 117,\n",
    "\t\t\"2\": 103,\n",
    "\t\t\"3\": 109,\n",
    "\t\t\"4\": 117,\n",
    "\t\t\"5\": 102\n",
    "\t}\n",
    "}\n"
   ]
  },
  {
   "cell_type": "code",
   "execution_count": 84,
   "id": "75cc32c6-59ea-479e-9765-5dece001dcdd",
   "metadata": {},
   "outputs": [
    {
     "data": {
      "text/plain": [
       "{'One': {'0': 60, '1': 60, '2': 60, '3': 45, '4': 45, '5': 60},\n",
       " 'Two': {'0': 110, '1': 117, '2': 103, '3': 109, '4': 117, '5': 102}}"
      ]
     },
     "execution_count": 84,
     "metadata": {},
     "output_type": "execute_result"
    }
   ],
   "source": [
    "data"
   ]
  },
  {
   "cell_type": "code",
   "execution_count": 85,
   "id": "4a316e37-ab3e-48e1-8c44-d4f694d6438b",
   "metadata": {},
   "outputs": [
    {
     "data": {
      "text/html": [
       "<div>\n",
       "<style scoped>\n",
       "    .dataframe tbody tr th:only-of-type {\n",
       "        vertical-align: middle;\n",
       "    }\n",
       "\n",
       "    .dataframe tbody tr th {\n",
       "        vertical-align: top;\n",
       "    }\n",
       "\n",
       "    .dataframe thead th {\n",
       "        text-align: right;\n",
       "    }\n",
       "</style>\n",
       "<table border=\"1\" class=\"dataframe\">\n",
       "  <thead>\n",
       "    <tr style=\"text-align: right;\">\n",
       "      <th></th>\n",
       "      <th>names</th>\n",
       "      <th>marks</th>\n",
       "    </tr>\n",
       "  </thead>\n",
       "  <tbody>\n",
       "    <tr>\n",
       "      <th>0</th>\n",
       "      <td>prince</td>\n",
       "      <td>100</td>\n",
       "    </tr>\n",
       "    <tr>\n",
       "      <th>1</th>\n",
       "      <td>jain</td>\n",
       "      <td>59</td>\n",
       "    </tr>\n",
       "    <tr>\n",
       "      <th>2</th>\n",
       "      <td>oppp</td>\n",
       "      <td>60</td>\n",
       "    </tr>\n",
       "  </tbody>\n",
       "</table>\n",
       "</div>"
      ],
      "text/plain": [
       "    names  marks\n",
       "0  prince    100\n",
       "1    jain     59\n",
       "2    oppp     60"
      ]
     },
     "execution_count": 85,
     "metadata": {},
     "output_type": "execute_result"
    }
   ],
   "source": [
    "df.head()"
   ]
  },
  {
   "cell_type": "code",
   "execution_count": 86,
   "id": "47e47f0a-233a-4017-bb77-3cabe46affcf",
   "metadata": {},
   "outputs": [],
   "source": [
    "# convert json to csv\n",
    "\n",
    "# .to_csv will make a file \n",
    "\n",
    "df.to_csv('wine.csv')"
   ]
  },
  {
   "cell_type": "code",
   "execution_count": 87,
   "id": "16dd8abd-d615-4bee-85da-49d0b243a324",
   "metadata": {},
   "outputs": [],
   "source": [
    "df.to_csv('json file')"
   ]
  },
  {
   "cell_type": "code",
   "execution_count": 90,
   "id": "296b6d9a-4a65-4ef3-9fbf-9c92ad22c56d",
   "metadata": {},
   "outputs": [
    {
     "data": {
      "text/html": [
       "<div>\n",
       "<style scoped>\n",
       "    .dataframe tbody tr th:only-of-type {\n",
       "        vertical-align: middle;\n",
       "    }\n",
       "\n",
       "    .dataframe tbody tr th {\n",
       "        vertical-align: top;\n",
       "    }\n",
       "\n",
       "    .dataframe thead th {\n",
       "        text-align: right;\n",
       "    }\n",
       "</style>\n",
       "<table border=\"1\" class=\"dataframe\">\n",
       "  <thead>\n",
       "    <tr style=\"text-align: right;\">\n",
       "      <th></th>\n",
       "      <th>employee_name</th>\n",
       "      <th>email</th>\n",
       "      <th>job_profile</th>\n",
       "    </tr>\n",
       "  </thead>\n",
       "  <tbody>\n",
       "    <tr>\n",
       "      <th>0</th>\n",
       "      <td>prince jain</td>\n",
       "      <td>princejain566@gmail.com</td>\n",
       "      <td>{'title1': 'Team lead', 'title2': 'sr.developer'}</td>\n",
       "    </tr>\n",
       "  </tbody>\n",
       "</table>\n",
       "</div>"
      ],
      "text/plain": [
       "  employee_name                    email  \\\n",
       "0   prince jain  princejain566@gmail.com   \n",
       "\n",
       "                                         job_profile  \n",
       "0  {'title1': 'Team lead', 'title2': 'sr.developer'}  "
      ]
     },
     "execution_count": 90,
     "metadata": {},
     "output_type": "execute_result"
    }
   ],
   "source": [
    "df1"
   ]
  },
  {
   "cell_type": "code",
   "execution_count": 94,
   "id": "c9fb95bb-707f-4b40-bc7e-f703eb851807",
   "metadata": {},
   "outputs": [
    {
     "data": {
      "text/plain": [
       "'[{\"names\":\"prince\",\"marks\":100},{\"names\":\"jain\",\"marks\":59},{\"names\":\"oppp\",\"marks\":60}]'"
      ]
     },
     "execution_count": 94,
     "metadata": {},
     "output_type": "execute_result"
    }
   ],
   "source": [
    "# convert json to different json formats\n",
    "df.to_json(orient=\"records\")"
   ]
  },
  {
   "cell_type": "code",
   "execution_count": null,
   "id": "25bf698c-a617-46bd-93fb-5c7606708b49",
   "metadata": {},
   "outputs": [],
   "source": []
  },
  {
   "cell_type": "code",
   "execution_count": null,
   "id": "a5855a3b-6155-4273-b7cd-f01854b6fa05",
   "metadata": {},
   "outputs": [],
   "source": []
  },
  {
   "cell_type": "markdown",
   "id": "72a7a858-a80b-424c-b000-f734d4759ae1",
   "metadata": {},
   "source": [
    "# Reading HTML content"
   ]
  },
  {
   "cell_type": "code",
   "execution_count": 99,
   "id": "4efd3753-5704-4c01-9940-5abf4fe59614",
   "metadata": {},
   "outputs": [],
   "source": [
    "url ='https://www.geeksforgeeks.org/how-to-read-json-files-with-pandas/'\n",
    "\n",
    "dfs =pd.read_html(url)"
   ]
  },
  {
   "cell_type": "code",
   "execution_count": 109,
   "id": "a7cdc932-8122-4ef7-a3ad-253b4ef0eef6",
   "metadata": {},
   "outputs": [
    {
     "data": {
      "text/html": [
       "<div>\n",
       "<style scoped>\n",
       "    .dataframe tbody tr th:only-of-type {\n",
       "        vertical-align: middle;\n",
       "    }\n",
       "\n",
       "    .dataframe tbody tr th {\n",
       "        vertical-align: top;\n",
       "    }\n",
       "\n",
       "    .dataframe thead th {\n",
       "        text-align: right;\n",
       "    }\n",
       "</style>\n",
       "<table border=\"1\" class=\"dataframe\">\n",
       "  <thead>\n",
       "    <tr style=\"text-align: right;\">\n",
       "      <th></th>\n",
       "      <th>0</th>\n",
       "    </tr>\n",
       "  </thead>\n",
       "  <tbody>\n",
       "    <tr>\n",
       "      <th>0</th>\n",
       "      <td>import pandas as pd  data = {  \"One\": {  \"0\": ...</td>\n",
       "    </tr>\n",
       "  </tbody>\n",
       "</table>\n",
       "</div>"
      ],
      "text/plain": [
       "                                                   0\n",
       "0  import pandas as pd  data = {  \"One\": {  \"0\": ..."
      ]
     },
     "execution_count": 109,
     "metadata": {},
     "output_type": "execute_result"
    }
   ],
   "source": [
    "dfs[0]"
   ]
  },
  {
   "cell_type": "code",
   "execution_count": null,
   "id": "58f84242-a43e-4083-b22d-fdcbb9c08ef1",
   "metadata": {},
   "outputs": [],
   "source": []
  },
  {
   "cell_type": "code",
   "execution_count": null,
   "id": "2fee2417-fa2c-4dd6-94bf-9814ce9570cc",
   "metadata": {},
   "outputs": [],
   "source": []
  },
  {
   "cell_type": "code",
   "execution_count": null,
   "id": "333d31ac-136b-41fd-8b7a-51a66bd8d99e",
   "metadata": {},
   "outputs": [],
   "source": []
  },
  {
   "cell_type": "code",
   "execution_count": null,
   "id": "406b3e6e-76ed-49af-bfa5-4c103ed1f6db",
   "metadata": {},
   "outputs": [],
   "source": [
    "\n"
   ]
  },
  {
   "cell_type": "markdown",
   "id": "89dee229-eb80-4984-a352-22c597bc2217",
   "metadata": {},
   "source": [
    "# Pickling \n",
    "- All pandas object are equipped with to_pickle methods which use pythons pickle module to save data structure to disk using\n",
    "- using a pickle methods.."
   ]
  },
  {
   "cell_type": "code",
   "execution_count": 124,
   "id": "3ba269d5-a5ef-4372-a430-f14ea914967a",
   "metadata": {},
   "outputs": [
    {
     "ename": "AttributeError",
     "evalue": "'tuple' object has no attribute 'to_pickle'",
     "output_type": "error",
     "traceback": [
      "\u001b[1;31m---------------------------------------------------------------------------\u001b[0m",
      "\u001b[1;31mAttributeError\u001b[0m                            Traceback (most recent call last)",
      "Cell \u001b[1;32mIn[124], line 1\u001b[0m\n\u001b[1;32m----> 1\u001b[0m df_excel\u001b[38;5;241m.\u001b[39mto_pickle(\u001b[38;5;124m'\u001b[39m\u001b[38;5;124mdf_excel\u001b[39m\u001b[38;5;124m'\u001b[39m)\n",
      "\u001b[1;31mAttributeError\u001b[0m: 'tuple' object has no attribute 'to_pickle'"
     ]
    }
   ],
   "source": [
    "df_excel.to_pickle('df_excel')"
   ]
  },
  {
   "cell_type": "code",
   "execution_count": null,
   "id": "99d4e5b5-c979-406b-9090-5041e44e7ca4",
   "metadata": {},
   "outputs": [],
   "source": []
  }
 ],
 "metadata": {
  "kernelspec": {
   "display_name": "Python 3 (ipykernel)",
   "language": "python",
   "name": "python3"
  },
  "language_info": {
   "codemirror_mode": {
    "name": "ipython",
    "version": 3
   },
   "file_extension": ".py",
   "mimetype": "text/x-python",
   "name": "python",
   "nbconvert_exporter": "python",
   "pygments_lexer": "ipython3",
   "version": "3.11.13"
  }
 },
 "nbformat": 4,
 "nbformat_minor": 5
}
