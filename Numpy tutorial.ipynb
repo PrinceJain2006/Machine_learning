{
 "cells": [
  {
   "cell_type": "markdown",
   "id": "01b2f276-6c89-4097-9f05-85ad0fd868b4",
   "metadata": {},
   "source": [
    "# welcome to numpy tutorial"
   ]
  },
  {
   "cell_type": "markdown",
   "id": "3ed05517-af68-4319-a87a-88629796fda0",
   "metadata": {},
   "source": [
    " **numpy liberary is used to crate multidimensional array object**"
   ]
  },
  {
   "cell_type": "markdown",
   "id": "7f8c254f-0415-4a59-8d72-ea86f877f7ff",
   "metadata": {},
   "source": [
    "*** Array is a data stucture that stores value of same data type in python,this is the\n",
    "main difference between array and list ***"
   ]
  },
  {
   "cell_type": "code",
   "execution_count": 30,
   "id": "a8b959e2-49fd-4221-bc07-477bb31a2611",
   "metadata": {},
   "outputs": [],
   "source": [
    "import numpy as np"
   ]
  },
  {
   "cell_type": "code",
   "execution_count": 31,
   "id": "a0472290-c5a8-4156-9c7d-c0f44eec133f",
   "metadata": {},
   "outputs": [
    {
     "name": "stdout",
     "output_type": "stream",
     "text": [
      "hello\n"
     ]
    }
   ],
   "source": [
    "print(\"hello\")"
   ]
  },
  {
   "cell_type": "code",
   "execution_count": 32,
   "id": "3d4c8c60-7a44-4d5d-87ba-558fded09d46",
   "metadata": {},
   "outputs": [],
   "source": [
    "myarr = np.array([3,6,32,7])"
   ]
  },
  {
   "cell_type": "code",
   "execution_count": 33,
   "id": "586a7588-39d9-43bb-90ff-b536ac5c0b6e",
   "metadata": {},
   "outputs": [
    {
     "data": {
      "text/plain": [
       "array([ 3,  6, 32,  7])"
      ]
     },
     "execution_count": 33,
     "metadata": {},
     "output_type": "execute_result"
    }
   ],
   "source": [
    "myarr# one dimensional array"
   ]
  },
  {
   "cell_type": "code",
   "execution_count": 34,
   "id": "2a52a639-e379-4d63-9390-157199da4485",
   "metadata": {},
   "outputs": [],
   "source": [
    "myarr = np.array([4,5,6,6,8,7,5])    # np.int8 it gives you an dtype of int 8.. means byte = example 8 bytes,16 bytes,32 bytes,64 bytes. "
   ]
  },
  {
   "cell_type": "code",
   "execution_count": 27,
   "id": "8471d4f0-f040-4382-8b6e-05c18521cc7f",
   "metadata": {},
   "outputs": [
    {
     "data": {
      "text/plain": [
       "array([[4, 5, 6, 6, 8, 7, 5]], dtype=int64)"
      ]
     },
     "execution_count": 27,
     "metadata": {},
     "output_type": "execute_result"
    }
   ],
   "source": [
    "myarr"
   ]
  },
  {
   "cell_type": "code",
   "execution_count": 28,
   "id": "d3793a2e-612b-49b1-87ba-fc539b2119d6",
   "metadata": {},
   "outputs": [
    {
     "data": {
      "text/plain": [
       "(1, 7)"
      ]
     },
     "execution_count": 28,
     "metadata": {},
     "output_type": "execute_result"
    }
   ],
   "source": [
    "# check the shape of the array\n",
    "myarr.shape"
   ]
  },
  {
   "cell_type": "code",
   "execution_count": 29,
   "id": "5fb8710a-e156-44dd-9862-2caf38ad31ca",
   "metadata": {},
   "outputs": [
    {
     "data": {
      "text/plain": [
       "array([[4],\n",
       "       [5],\n",
       "       [6],\n",
       "       [6],\n",
       "       [8],\n",
       "       [7],\n",
       "       [5]], dtype=int64)"
      ]
     },
     "execution_count": 29,
     "metadata": {},
     "output_type": "execute_result"
    }
   ],
   "source": [
    "myarr.reshape(7,1)"
   ]
  },
  {
   "cell_type": "code",
   "execution_count": 9,
   "id": "cfe5d51f-1cb1-44b4-bdaf-dfa84d9192b0",
   "metadata": {},
   "outputs": [
    {
     "data": {
      "text/plain": [
       "dtype('int64')"
      ]
     },
     "execution_count": 9,
     "metadata": {},
     "output_type": "execute_result"
    }
   ],
   "source": [
    "myarr.dtype"
   ]
  },
  {
   "cell_type": "markdown",
   "id": "263872e7-7e24-4d0f-8a78-b71b0946857f",
   "metadata": {},
   "source": [
    "# Array creation: Conversion from other Python structures "
   ]
  },
  {
   "cell_type": "code",
   "execution_count": 10,
   "id": "c5c12aea-8967-47d1-9b82-6978284de569",
   "metadata": {},
   "outputs": [],
   "source": [
    "listarray = np.array([[1,2,3], [4,5,6], [7,8,9]])"
   ]
  },
  {
   "cell_type": "code",
   "execution_count": 11,
   "id": "fe360946-0427-4633-acc0-c2f9ef7ab0f1",
   "metadata": {},
   "outputs": [
    {
     "data": {
      "text/plain": [
       "array([[1, 2, 3],\n",
       "       [4, 5, 6],\n",
       "       [7, 8, 9]])"
      ]
     },
     "execution_count": 11,
     "metadata": {},
     "output_type": "execute_result"
    }
   ],
   "source": [
    "listarray   # two dimentinal array "
   ]
  },
  {
   "cell_type": "code",
   "execution_count": 12,
   "id": "7e8881a1-7991-43f8-aea4-b0dbe5e4ac04",
   "metadata": {},
   "outputs": [
    {
     "data": {
      "text/plain": [
       "(3, 3)"
      ]
     },
     "execution_count": 12,
     "metadata": {},
     "output_type": "execute_result"
    }
   ],
   "source": [
    "listarray.shape"
   ]
  },
  {
   "cell_type": "code",
   "execution_count": 13,
   "id": "24819eea-c0ae-4a12-b161-0ae4fe6e9f90",
   "metadata": {},
   "outputs": [
    {
     "data": {
      "text/plain": [
       "9"
      ]
     },
     "execution_count": 13,
     "metadata": {},
     "output_type": "execute_result"
    }
   ],
   "source": [
    "listarray.size"
   ]
  },
  {
   "cell_type": "code",
   "execution_count": 14,
   "id": "d9bbaf6e-fd6f-4406-854d-433092427bf7",
   "metadata": {},
   "outputs": [
    {
     "data": {
      "text/plain": [
       "dtype('int32')"
      ]
     },
     "execution_count": 14,
     "metadata": {},
     "output_type": "execute_result"
    }
   ],
   "source": [
    "listarray.dtype"
   ]
  },
  {
   "cell_type": "code",
   "execution_count": 15,
   "id": "f9c035b7-f137-492a-8d3e-a1c640b268fa",
   "metadata": {},
   "outputs": [
    {
     "data": {
      "text/plain": [
       "array({32, 34, 56}, dtype=object)"
      ]
     },
     "execution_count": 15,
     "metadata": {},
     "output_type": "execute_result"
    }
   ],
   "source": [
    "np.array({32,34,56})"
   ]
  },
  {
   "cell_type": "markdown",
   "id": "d423d427-5153-4196-820d-a4dc75599689",
   "metadata": {},
   "source": [
    "-**Intrinsic numpy array array creation objects**"
   ]
  },
  {
   "cell_type": "code",
   "execution_count": 16,
   "id": "1ef81fbb-1fdd-4f1f-9006-774c2980bf80",
   "metadata": {},
   "outputs": [],
   "source": [
    "#  np. provides zeros of an array\n",
    "zeros = np.zeros((2,3))     "
   ]
  },
  {
   "cell_type": "code",
   "execution_count": 17,
   "id": "6f8a3cb2-ab09-44fb-aafd-2b491d65d37d",
   "metadata": {},
   "outputs": [
    {
     "data": {
      "text/plain": [
       "array([[0., 0., 0.],\n",
       "       [0., 0., 0.]])"
      ]
     },
     "execution_count": 17,
     "metadata": {},
     "output_type": "execute_result"
    }
   ],
   "source": [
    "zeros    "
   ]
  },
  {
   "cell_type": "code",
   "execution_count": 18,
   "id": "43153216-bd82-4cd6-b36d-340a0bcdf250",
   "metadata": {},
   "outputs": [],
   "source": [
    "ones= np.ones((3,3))"
   ]
  },
  {
   "cell_type": "code",
   "execution_count": 19,
   "id": "0ca17f23-7773-4ad8-8836-e00da77c0b98",
   "metadata": {},
   "outputs": [
    {
     "data": {
      "text/plain": [
       "array([[1., 1., 1.],\n",
       "       [1., 1., 1.],\n",
       "       [1., 1., 1.]])"
      ]
     },
     "execution_count": 19,
     "metadata": {},
     "output_type": "execute_result"
    }
   ],
   "source": [
    "ones"
   ]
  },
  {
   "cell_type": "code",
   "execution_count": 20,
   "id": "727c0f5a-495f-4a7f-87c0-5f92b31c55d1",
   "metadata": {},
   "outputs": [
    {
     "data": {
      "text/plain": [
       "dtype('float64')"
      ]
     },
     "execution_count": 20,
     "metadata": {},
     "output_type": "execute_result"
    }
   ],
   "source": [
    "ones.dtype"
   ]
  },
  {
   "cell_type": "code",
   "execution_count": 21,
   "id": "4a825023-fafc-4ad7-a0ba-7495846dafc0",
   "metadata": {},
   "outputs": [
    {
     "data": {
      "text/plain": [
       "(3, 3)"
      ]
     },
     "execution_count": 21,
     "metadata": {},
     "output_type": "execute_result"
    }
   ],
   "source": [
    "ones.shape"
   ]
  },
  {
   "cell_type": "code",
   "execution_count": 22,
   "id": "af497c76-937f-428e-b3af-71c63e980ef4",
   "metadata": {},
   "outputs": [],
   "source": [
    "array = np.arange(15)   # arange provids a numpy array"
   ]
  },
  {
   "cell_type": "code",
   "execution_count": 23,
   "id": "57c1502b-0e7b-40cc-84b6-3c6fd8156a6f",
   "metadata": {},
   "outputs": [
    {
     "data": {
      "text/plain": [
       "array([ 0,  1,  2,  3,  4,  5,  6,  7,  8,  9, 10, 11, 12, 13, 14])"
      ]
     },
     "execution_count": 23,
     "metadata": {},
     "output_type": "execute_result"
    }
   ],
   "source": [
    "array"
   ]
  },
  {
   "cell_type": "code",
   "execution_count": 24,
   "id": "04b1c2d3-15bd-45f1-bf67-460e3970e81b",
   "metadata": {},
   "outputs": [],
   "source": [
    "lspace = np.linspace(1,5,4)   # linspace provides equaly linearly space"
   ]
  },
  {
   "cell_type": "code",
   "execution_count": 25,
   "id": "d422328f-6758-4aa0-999b-6fe56029818c",
   "metadata": {},
   "outputs": [
    {
     "data": {
      "text/plain": [
       "array([1.        , 2.33333333, 3.66666667, 5.        ])"
      ]
     },
     "execution_count": 25,
     "metadata": {},
     "output_type": "execute_result"
    }
   ],
   "source": [
    "lspace   #  1 >: 1st element, 5>:last element, 4>: kitne number chiye giving space (size)"
   ]
  },
  {
   "cell_type": "code",
   "execution_count": 26,
   "id": "01f29524-54a6-4415-828b-cbc60392bf22",
   "metadata": {},
   "outputs": [],
   "source": [
    "emp = np.empty((5,5))"
   ]
  },
  {
   "cell_type": "code",
   "execution_count": 27,
   "id": "d27cda6d-c1a6-456a-9281-366544f29630",
   "metadata": {},
   "outputs": [
    {
     "data": {
      "text/plain": [
       "array([[6.23042070e-307, 4.67296746e-307, 1.69121096e-306,\n",
       "        1.11261434e-306, 6.23054972e-307],\n",
       "       [8.45593934e-307, 7.56593017e-307, 1.11258854e-306,\n",
       "        1.11261502e-306, 1.42410839e-306],\n",
       "       [7.56597770e-307, 6.23059726e-307, 1.42419530e-306,\n",
       "        7.56602523e-307, 1.29061821e-306],\n",
       "       [1.42417629e-306, 8.45593934e-307, 6.89805151e-307,\n",
       "        1.11260144e-306, 6.89812281e-307],\n",
       "       [1.42418172e-306, 1.37961641e-306, 9.45699679e-308,\n",
       "        2.22522596e-306, 4.89124989e-322]])"
      ]
     },
     "execution_count": 27,
     "metadata": {},
     "output_type": "execute_result"
    }
   ],
   "source": [
    "emp"
   ]
  },
  {
   "cell_type": "code",
   "execution_count": 28,
   "id": "fd00b1d2-df63-40b3-9c1e-b842477c053b",
   "metadata": {},
   "outputs": [],
   "source": [
    "emp_like = np.empty_like(lspace)"
   ]
  },
  {
   "cell_type": "code",
   "execution_count": 29,
   "id": "d88c12b3-5d00-4475-8bcf-4c1fb6ded3a8",
   "metadata": {},
   "outputs": [],
   "source": [
    "arr = np.arange(99)"
   ]
  },
  {
   "cell_type": "code",
   "execution_count": 30,
   "id": "30fbbcdc-ef9a-4a4a-9766-f884db9faa71",
   "metadata": {
    "scrolled": true
   },
   "outputs": [
    {
     "data": {
      "text/plain": [
       "array([ 0,  1,  2,  3,  4,  5,  6,  7,  8,  9, 10, 11, 12, 13, 14, 15, 16,\n",
       "       17, 18, 19, 20, 21, 22, 23, 24, 25, 26, 27, 28, 29, 30, 31, 32, 33,\n",
       "       34, 35, 36, 37, 38, 39, 40, 41, 42, 43, 44, 45, 46, 47, 48, 49, 50,\n",
       "       51, 52, 53, 54, 55, 56, 57, 58, 59, 60, 61, 62, 63, 64, 65, 66, 67,\n",
       "       68, 69, 70, 71, 72, 73, 74, 75, 76, 77, 78, 79, 80, 81, 82, 83, 84,\n",
       "       85, 86, 87, 88, 89, 90, 91, 92, 93, 94, 95, 96, 97, 98])"
      ]
     },
     "execution_count": 30,
     "metadata": {},
     "output_type": "execute_result"
    }
   ],
   "source": [
    "arr"
   ]
  },
  {
   "cell_type": "code",
   "execution_count": 31,
   "id": "0ff0eb46-97d3-494b-84ed-5d44beba4574",
   "metadata": {},
   "outputs": [
    {
     "data": {
      "text/plain": [
       "(99,)"
      ]
     },
     "execution_count": 31,
     "metadata": {},
     "output_type": "execute_result"
    }
   ],
   "source": [
    "arr.shape"
   ]
  },
  {
   "cell_type": "code",
   "execution_count": 3,
   "id": "65771594-cb21-4f83-9cb4-db74433276f0",
   "metadata": {},
   "outputs": [],
   "source": [
    "x = [[1,2,3], [4,5,6],[7,1,0]]"
   ]
  },
  {
   "cell_type": "code",
   "execution_count": 4,
   "id": "2aa74974-827f-46d3-9369-9888c4d872e2",
   "metadata": {},
   "outputs": [
    {
     "data": {
      "application/javascript": [
       "\n",
       "        if (window._pyforest_update_imports_cell) { window._pyforest_update_imports_cell('import numpy as np'); }\n",
       "    "
      ],
      "text/plain": [
       "<IPython.core.display.Javascript object>"
      ]
     },
     "metadata": {},
     "output_type": "display_data"
    }
   ],
   "source": [
    "ar = np.array(x)"
   ]
  },
  {
   "cell_type": "code",
   "execution_count": 5,
   "id": "59bf13b7-d187-4768-b3ef-f60c8387ed99",
   "metadata": {},
   "outputs": [
    {
     "data": {
      "text/plain": [
       "array([[1, 2, 3],\n",
       "       [4, 5, 6],\n",
       "       [7, 1, 0]])"
      ]
     },
     "execution_count": 5,
     "metadata": {},
     "output_type": "execute_result"
    }
   ],
   "source": [
    "ar"
   ]
  },
  {
   "cell_type": "code",
   "execution_count": 6,
   "id": "232523ae-8081-417e-a3a4-6d4ee56cbd36",
   "metadata": {},
   "outputs": [
    {
     "data": {
      "text/plain": [
       "array([12,  8,  9])"
      ]
     },
     "execution_count": 6,
     "metadata": {},
     "output_type": "execute_result"
    }
   ],
   "source": [
    "ar.sum(axis=0)"
   ]
  },
  {
   "cell_type": "code",
   "execution_count": 7,
   "id": "0a402130-37f8-4dd1-82c6-494de55a9abc",
   "metadata": {},
   "outputs": [
    {
     "data": {
      "text/plain": [
       "array([ 6, 15,  8])"
      ]
     },
     "execution_count": 7,
     "metadata": {},
     "output_type": "execute_result"
    }
   ],
   "source": [
    "ar.sum(axis=1)"
   ]
  },
  {
   "cell_type": "markdown",
   "id": "50bb2977-b377-43b3-befd-f45ad94862b5",
   "metadata": {},
   "source": [
    "-there are some **ATRIBUTE** in numpy"
   ]
  },
  {
   "cell_type": "code",
   "execution_count": 8,
   "id": "15feac01-af2b-419f-9ed9-ec76b1631f13",
   "metadata": {},
   "outputs": [
    {
     "data": {
      "text/plain": [
       "array([[1, 4, 7],\n",
       "       [2, 5, 1],\n",
       "       [3, 6, 0]])"
      ]
     },
     "execution_count": 8,
     "metadata": {},
     "output_type": "execute_result"
    }
   ],
   "source": [
    "ar.T   # ar.T  key transform the matrix"
   ]
  },
  {
   "cell_type": "code",
   "execution_count": 9,
   "id": "562aaafa-31c0-4117-a221-2565502a9377",
   "metadata": {},
   "outputs": [
    {
     "data": {
      "text/plain": [
       "<numpy.flatiter at 0x269bb9ce2c0>"
      ]
     },
     "execution_count": 9,
     "metadata": {},
     "output_type": "execute_result"
    }
   ],
   "source": [
    "ar.flat  # provide iterator"
   ]
  },
  {
   "cell_type": "code",
   "execution_count": 10,
   "id": "9040c3a9-24bd-4409-83f5-a67796111313",
   "metadata": {},
   "outputs": [
    {
     "name": "stdout",
     "output_type": "stream",
     "text": [
      "1\n",
      "2\n",
      "3\n",
      "4\n",
      "5\n",
      "6\n",
      "7\n",
      "1\n",
      "0\n"
     ]
    }
   ],
   "source": [
    "for item in ar.flat:\n",
    "    print(item)"
   ]
  },
  {
   "cell_type": "code",
   "execution_count": 40,
   "id": "d39c3ba3-cb91-43e5-b51b-d6de967fc320",
   "metadata": {},
   "outputs": [
    {
     "data": {
      "text/plain": [
       "2"
      ]
     },
     "execution_count": 40,
     "metadata": {},
     "output_type": "execute_result"
    }
   ],
   "source": [
    "ar.ndim   # number of dimensions =2"
   ]
  },
  {
   "cell_type": "code",
   "execution_count": 41,
   "id": "27e2a89a-e407-4bb2-a56e-2fa4f1fb8a31",
   "metadata": {},
   "outputs": [
    {
     "data": {
      "text/plain": [
       "9"
      ]
     },
     "execution_count": 41,
     "metadata": {},
     "output_type": "execute_result"
    }
   ],
   "source": [
    "ar.size"
   ]
  },
  {
   "cell_type": "code",
   "execution_count": 42,
   "id": "ad991962-3bac-4d44-ac31-19f2368529e4",
   "metadata": {},
   "outputs": [
    {
     "data": {
      "text/plain": [
       "(3, 3)"
      ]
     },
     "execution_count": 42,
     "metadata": {},
     "output_type": "execute_result"
    }
   ],
   "source": [
    "ar.shape"
   ]
  },
  {
   "cell_type": "code",
   "execution_count": 43,
   "id": "c3fe92c3-24c4-4208-be3f-d1b6a0c6b217",
   "metadata": {},
   "outputs": [
    {
     "data": {
      "text/plain": [
       "36"
      ]
     },
     "execution_count": 43,
     "metadata": {},
     "output_type": "execute_result"
    }
   ],
   "source": [
    "ar.nbytes"
   ]
  },
  {
   "cell_type": "code",
   "execution_count": 44,
   "id": "a965092e-4f39-4a25-a04a-16b645ee0ff0",
   "metadata": {},
   "outputs": [],
   "source": [
    "one = np.array([1,3,4,634,2])"
   ]
  },
  {
   "cell_type": "code",
   "execution_count": 45,
   "id": "3fe634e7-73ce-4397-9c71-b1dab6e718f8",
   "metadata": {},
   "outputs": [
    {
     "data": {
      "text/plain": [
       "3"
      ]
     },
     "execution_count": 45,
     "metadata": {},
     "output_type": "execute_result"
    }
   ],
   "source": [
    "one.argmax()  # methods as a function \n",
    "             # provides index of maximum element "
   ]
  },
  {
   "cell_type": "code",
   "execution_count": 46,
   "id": "10e45f7a-80fc-43ac-aa4a-2a0894a22733",
   "metadata": {},
   "outputs": [
    {
     "data": {
      "text/plain": [
       "0"
      ]
     },
     "execution_count": 46,
     "metadata": {},
     "output_type": "execute_result"
    }
   ],
   "source": [
    "one.argmin()  # provides minimum index value "
   ]
  },
  {
   "cell_type": "code",
   "execution_count": 47,
   "id": "2e0c4633-3bdf-4d03-bacb-abeb86617f0d",
   "metadata": {},
   "outputs": [
    {
     "data": {
      "text/plain": [
       "array([0, 4, 1, 2, 3], dtype=int64)"
      ]
     },
     "execution_count": 47,
     "metadata": {},
     "output_type": "execute_result"
    }
   ],
   "source": [
    "one.argsort()   # provides array indisis "
   ]
  },
  {
   "cell_type": "code",
   "execution_count": 48,
   "id": "ab9b93dc-3468-44d2-a59a-da3adfb8a3e5",
   "metadata": {},
   "outputs": [
    {
     "data": {
      "text/plain": [
       "array([[1, 2, 3],\n",
       "       [4, 5, 6],\n",
       "       [7, 1, 0]])"
      ]
     },
     "execution_count": 48,
     "metadata": {},
     "output_type": "execute_result"
    }
   ],
   "source": [
    "ar"
   ]
  },
  {
   "cell_type": "code",
   "execution_count": 49,
   "id": "2997e5a4-b883-4298-9dc4-26d86f90c4d4",
   "metadata": {},
   "outputs": [
    {
     "data": {
      "text/plain": [
       "8"
      ]
     },
     "execution_count": 49,
     "metadata": {},
     "output_type": "execute_result"
    }
   ],
   "source": [
    "ar.argmin()  # 8rd index having  minimum element "
   ]
  },
  {
   "cell_type": "code",
   "execution_count": 50,
   "id": "d5953996-5a07-4f68-bde8-cd6cf62e6a28",
   "metadata": {},
   "outputs": [
    {
     "data": {
      "text/plain": [
       "6"
      ]
     },
     "execution_count": 50,
     "metadata": {},
     "output_type": "execute_result"
    }
   ],
   "source": [
    "ar.argmax()"
   ]
  },
  {
   "cell_type": "code",
   "execution_count": 51,
   "id": "1c8bb7a6-829d-46b1-b1af-fe5bb5048d05",
   "metadata": {},
   "outputs": [
    {
     "data": {
      "text/plain": [
       "array([2, 1, 1], dtype=int64)"
      ]
     },
     "execution_count": 51,
     "metadata": {},
     "output_type": "execute_result"
    }
   ],
   "source": [
    "ar.argmax(axis=0)"
   ]
  },
  {
   "cell_type": "code",
   "execution_count": 52,
   "id": "5b0eb405-fc58-42ca-97a9-744604dcb850",
   "metadata": {},
   "outputs": [
    {
     "data": {
      "text/plain": [
       "array([2, 2, 0], dtype=int64)"
      ]
     },
     "execution_count": 52,
     "metadata": {},
     "output_type": "execute_result"
    }
   ],
   "source": [
    "ar.argmax(axis=1)"
   ]
  },
  {
   "cell_type": "code",
   "execution_count": 53,
   "id": "b9cd836e-5bc6-4a53-97de-301557117760",
   "metadata": {},
   "outputs": [
    {
     "data": {
      "text/plain": [
       "array([1, 2, 3, 4, 5, 6, 7, 1, 0])"
      ]
     },
     "execution_count": 53,
     "metadata": {},
     "output_type": "execute_result"
    }
   ],
   "source": [
    "ar.ravel()    # ravel keywords provide "
   ]
  },
  {
   "cell_type": "code",
   "execution_count": 54,
   "id": "f0f60970-9f9c-4ff3-8ac9-1fd6a1237460",
   "metadata": {},
   "outputs": [
    {
     "data": {
      "text/plain": [
       "array([[1, 2, 3],\n",
       "       [4, 5, 6],\n",
       "       [7, 1, 0]])"
      ]
     },
     "execution_count": 54,
     "metadata": {},
     "output_type": "execute_result"
    }
   ],
   "source": [
    "ar.reshape((3,3))"
   ]
  },
  {
   "cell_type": "code",
   "execution_count": 55,
   "id": "46281911-25fd-477c-835e-337eac9ac20c",
   "metadata": {},
   "outputs": [],
   "source": [
    "ar2 = np.array([[1, 5, 3],\n",
    "       [4, 4, 6],\n",
    "       [7, 1, 9]])"
   ]
  },
  {
   "cell_type": "code",
   "execution_count": 56,
   "id": "8c3029b5-5dc4-4605-bfaf-c1e92f2b3f59",
   "metadata": {},
   "outputs": [
    {
     "data": {
      "text/plain": [
       "array([[ 2,  7,  6],\n",
       "       [ 8,  9, 12],\n",
       "       [14,  2,  9]])"
      ]
     },
     "execution_count": 56,
     "metadata": {},
     "output_type": "execute_result"
    }
   ],
   "source": [
    "ar+ar2"
   ]
  },
  {
   "cell_type": "code",
   "execution_count": 57,
   "id": "2efd1ea5-5ada-42a3-807d-8bc799172009",
   "metadata": {},
   "outputs": [
    {
     "data": {
      "text/plain": [
       "array([[ 1, 10,  9],\n",
       "       [16, 20, 36],\n",
       "       [49,  1,  0]])"
      ]
     },
     "execution_count": 57,
     "metadata": {},
     "output_type": "execute_result"
    }
   ],
   "source": [
    "ar*ar2"
   ]
  },
  {
   "cell_type": "code",
   "execution_count": 58,
   "id": "56200913-0865-4e05-b3a3-72d8835e77f0",
   "metadata": {},
   "outputs": [
    {
     "data": {
      "text/plain": [
       "array([[1.        , 1.41421356, 1.73205081],\n",
       "       [2.        , 2.23606798, 2.44948974],\n",
       "       [2.64575131, 1.        , 0.        ]])"
      ]
     },
     "execution_count": 58,
     "metadata": {},
     "output_type": "execute_result"
    }
   ],
   "source": [
    "np.sqrt(ar)"
   ]
  },
  {
   "cell_type": "code",
   "execution_count": 59,
   "id": "807a8c00-5371-41aa-9e9d-4ac8503a0a6b",
   "metadata": {},
   "outputs": [
    {
     "data": {
      "text/plain": [
       "array([[1.        , 2.23606798, 1.73205081],\n",
       "       [2.        , 2.        , 2.44948974],\n",
       "       [2.64575131, 1.        , 3.        ]])"
      ]
     },
     "execution_count": 59,
     "metadata": {},
     "output_type": "execute_result"
    }
   ],
   "source": [
    "np.sqrt(ar2)"
   ]
  },
  {
   "cell_type": "code",
   "execution_count": 60,
   "id": "8c63bd88-ea39-47f3-bf32-500bb0f9c9f8",
   "metadata": {},
   "outputs": [
    {
     "data": {
      "text/plain": [
       "29"
      ]
     },
     "execution_count": 60,
     "metadata": {},
     "output_type": "execute_result"
    }
   ],
   "source": [
    "ar.sum()"
   ]
  },
  {
   "cell_type": "code",
   "execution_count": 61,
   "id": "f5b23e3d-3e58-41ba-8dde-3cfe03575aa7",
   "metadata": {},
   "outputs": [
    {
     "data": {
      "text/plain": [
       "array([[1, 2, 3],\n",
       "       [4, 5, 6],\n",
       "       [7, 1, 0]])"
      ]
     },
     "execution_count": 61,
     "metadata": {},
     "output_type": "execute_result"
    }
   ],
   "source": [
    "ar"
   ]
  },
  {
   "cell_type": "code",
   "execution_count": 62,
   "id": "c49af04a-2460-4ab9-ba64-f89d5304f0b6",
   "metadata": {},
   "outputs": [
    {
     "data": {
      "text/plain": [
       "(array([0, 0, 0, 1, 1, 1, 2, 2], dtype=int64),\n",
       " array([0, 1, 2, 0, 1, 2, 0, 1], dtype=int64))"
      ]
     },
     "execution_count": 62,
     "metadata": {},
     "output_type": "execute_result"
    }
   ],
   "source": [
    "np.where(ar)"
   ]
  },
  {
   "cell_type": "code",
   "execution_count": 63,
   "id": "0aedb3e4-3e24-40fb-9061-66501f9d3eaf",
   "metadata": {},
   "outputs": [
    {
     "data": {
      "text/plain": [
       "(array([2], dtype=int64), array([0], dtype=int64))"
      ]
     },
     "execution_count": 63,
     "metadata": {},
     "output_type": "execute_result"
    }
   ],
   "source": [
    "np.where(ar>6)"
   ]
  },
  {
   "cell_type": "code",
   "execution_count": 64,
   "id": "0df83f33-eba4-4f85-931a-e79f4c599400",
   "metadata": {},
   "outputs": [
    {
     "data": {
      "text/plain": [
       "numpy.ndarray"
      ]
     },
     "execution_count": 64,
     "metadata": {},
     "output_type": "execute_result"
    }
   ],
   "source": [
    "type(ar)"
   ]
  },
  {
   "cell_type": "code",
   "execution_count": 65,
   "id": "a735e082-413d-4319-a7b8-3ff951677150",
   "metadata": {},
   "outputs": [
    {
     "data": {
      "text/plain": [
       "tuple"
      ]
     },
     "execution_count": 65,
     "metadata": {},
     "output_type": "execute_result"
    }
   ],
   "source": [
    "type(np.where(ar>5))"
   ]
  },
  {
   "cell_type": "code",
   "execution_count": 66,
   "id": "2b9439df-8ec4-40d2-be1f-9105e97fa394",
   "metadata": {},
   "outputs": [
    {
     "data": {
      "text/plain": [
       "8"
      ]
     },
     "execution_count": 66,
     "metadata": {},
     "output_type": "execute_result"
    }
   ],
   "source": [
    "np.count_nonzero(ar)"
   ]
  },
  {
   "cell_type": "code",
   "execution_count": 67,
   "id": "a6f4d58e-f060-461e-82d3-0e06a808be2d",
   "metadata": {},
   "outputs": [],
   "source": [
    "import sys"
   ]
  },
  {
   "cell_type": "code",
   "execution_count": null,
   "id": "d05e4d99-453f-43f4-9512-ae84897f35aa",
   "metadata": {},
   "outputs": [],
   "source": []
  },
  {
   "cell_type": "code",
   "execution_count": 68,
   "id": "22677c43-76a8-46d7-8c48-e8c20079f726",
   "metadata": {},
   "outputs": [],
   "source": [
    "py_ar =[0,4,5,6]"
   ]
  },
  {
   "cell_type": "code",
   "execution_count": 69,
   "id": "6ba245a0-9255-40c6-bb26-62293b9cfe30",
   "metadata": {},
   "outputs": [],
   "source": [
    "np_ar = np.array(py_ar)"
   ]
  },
  {
   "cell_type": "code",
   "execution_count": 70,
   "id": "ecde93ac-6a65-48da-9464-f086883a8b3e",
   "metadata": {},
   "outputs": [
    {
     "data": {
      "text/plain": [
       "112"
      ]
     },
     "execution_count": 70,
     "metadata": {},
     "output_type": "execute_result"
    }
   ],
   "source": [
    "sys.getsizeof(1) * len(py_ar)"
   ]
  },
  {
   "cell_type": "code",
   "execution_count": 71,
   "id": "c97fc2a0-1b37-498d-804b-7059edffe4bc",
   "metadata": {},
   "outputs": [],
   "source": [
    "ar = np.array([[2,3,4],[5,6,7],[8,9,1]])"
   ]
  },
  {
   "cell_type": "code",
   "execution_count": 72,
   "id": "8de43b1f-05f6-46f6-ba48-00db464c6271",
   "metadata": {},
   "outputs": [],
   "source": [
    "ar[3:]=20"
   ]
  },
  {
   "cell_type": "code",
   "execution_count": 73,
   "id": "91152440-7a00-459b-93e9-3224c272d52a",
   "metadata": {},
   "outputs": [],
   "source": [
    "# copy() functon and brodcasting \n",
    "arr[3:] = 500    "
   ]
  },
  {
   "cell_type": "code",
   "execution_count": 74,
   "id": "5ae80278-ab28-41af-9737-f429e837d467",
   "metadata": {},
   "outputs": [],
   "source": [
    "#it will replace all. from the 3rd index till the end 500\n",
    "arr1 = arr"
   ]
  },
  {
   "cell_type": "code",
   "execution_count": 75,
   "id": "f014c86c-67ab-46ee-9ab1-f7f171d4d731",
   "metadata": {},
   "outputs": [],
   "source": [
    "arr1=arr.copy()"
   ]
  },
  {
   "cell_type": "code",
   "execution_count": 76,
   "id": "d489191d-fa32-40b2-8f9c-227cb4e8d14f",
   "metadata": {},
   "outputs": [
    {
     "name": "stdout",
     "output_type": "stream",
     "text": [
      "[  0   1   2 500 500 500 500 500 500 500 500 500 500 500 500 500 500 500\n",
      " 500 500 500 500 500 500 500 500 500 500 500 500 500 500 500 500 500 500\n",
      " 500 500 500 500 500 500 500 500 500 500 500 500 500 500 500 500 500 500\n",
      " 500 500 500 500 500 500 500 500 500 500 500 500 500 500 500 500 500 500\n",
      " 500 500 500 500 500 500 500 500 500 500 500 500 500 500 500 500 500 500\n",
      " 500 500 500 500 500 500 500 500 500]\n",
      "[  0   1   2 500 500 500 500 500 500 500 500 500 500 500 500 500 500 500\n",
      " 500 500 500 500 500 500 500 500 500 500 500 500 500 500 500 500 500 500\n",
      " 500 500 500 500 500 500 500 500 500 500 500 500 500 500 500 500 500 500\n",
      " 500 500 500 500 500 500 500 500 500 500 500 500 500 500 500 500 500 500\n",
      " 500 500 500 500 500 500 500 500 500 500 500 500 500 500 500 500 500 500\n",
      " 500 500 500 500 500 500 500 500 500]\n"
     ]
    }
   ],
   "source": [
    "print(arr)\n",
    "arr1[3:]=500\n",
    "print(arr1)"
   ]
  },
  {
   "cell_type": "code",
   "execution_count": 77,
   "id": "d7ae3408-08f7-4b45-b57d-4f1478e47235",
   "metadata": {},
   "outputs": [
    {
     "data": {
      "text/plain": [
       "array([[0, 1],\n",
       "       [2, 3],\n",
       "       [4, 5],\n",
       "       [6, 7],\n",
       "       [8, 9]])"
      ]
     },
     "execution_count": 77,
     "metadata": {},
     "output_type": "execute_result"
    }
   ],
   "source": [
    "np.arange(0,10).reshape(5,2)"
   ]
  },
  {
   "cell_type": "code",
   "execution_count": 78,
   "id": "bf505467-8894-481f-92e9-28b1de320a4b",
   "metadata": {},
   "outputs": [
    {
     "data": {
      "text/plain": [
       "array([[0.04505492, 0.39290067, 0.98142289],\n",
       "       [0.85091839, 0.33548551, 0.45641362],\n",
       "       [0.58673872, 0.96159189, 0.29386035]])"
      ]
     },
     "execution_count": 78,
     "metadata": {},
     "output_type": "execute_result"
    }
   ],
   "source": [
    "np.random.rand(3,3)"
   ]
  },
  {
   "cell_type": "code",
   "execution_count": 79,
   "id": "8c3f080e-5f4d-4264-a53a-3b97c0206984",
   "metadata": {},
   "outputs": [],
   "source": [
    "arr_ex=np.random.rand(4,4)"
   ]
  },
  {
   "cell_type": "code",
   "execution_count": 80,
   "id": "000eb9f2-ea21-49bf-a606-ff5af8866fe6",
   "metadata": {},
   "outputs": [
    {
     "data": {
      "text/plain": [
       "array([[0.54821432, 0.69292519, 0.64267024, 0.15051816],\n",
       "       [0.28638939, 0.96219806, 0.28381173, 0.17434342],\n",
       "       [0.4928089 , 0.81474931, 0.07837197, 0.31201811],\n",
       "       [0.12868906, 0.87860147, 0.1298939 , 0.56323111]])"
      ]
     },
     "execution_count": 80,
     "metadata": {},
     "output_type": "execute_result"
    }
   ],
   "source": [
    "arr_ex"
   ]
  },
  {
   "cell_type": "code",
   "execution_count": 81,
   "id": "c2e10409-be81-4aeb-a6b6-bcab6b38b9bd",
   "metadata": {},
   "outputs": [],
   "source": [
    "import seaborn as sns\n",
    "import pandas as pd"
   ]
  },
  {
   "cell_type": "code",
   "execution_count": 82,
   "id": "54b85592-efc5-4179-86e3-1214a2aa311c",
   "metadata": {},
   "outputs": [
    {
     "name": "stderr",
     "output_type": "stream",
     "text": [
      "C:\\Users\\Prince\\AppData\\Local\\Temp\\ipykernel_6616\\1832295236.py:1: UserWarning: \n",
      "\n",
      "`distplot` is a deprecated function and will be removed in seaborn v0.14.0.\n",
      "\n",
      "Please adapt your code to use either `displot` (a figure-level function with\n",
      "similar flexibility) or `histplot` (an axes-level function for histograms).\n",
      "\n",
      "For a guide to updating your code to use the new functions, please see\n",
      "https://gist.github.com/mwaskom/de44147ed2974457ad6372750bbe5751\n",
      "\n",
      "  sns.distplot(pd.DataFrame(arr_ex.reshape(16,1)))\n"
     ]
    },
    {
     "data": {
      "text/plain": [
       "<Axes: ylabel='Density'>"
      ]
     },
     "execution_count": 82,
     "metadata": {},
     "output_type": "execute_result"
    },
    {
     "data": {
      "image/png": "[encoded data removed]",
      "text/plain": [
       "<Figure size 640x480 with 1 Axes>"
      ]
     },
     "metadata": {},
     "output_type": "display_data"
    }
   ],
   "source": [
    "sns.distplot(pd.DataFrame(arr_ex.reshape(16,1)))"
   ]
  },
  {
   "cell_type": "code",
   "execution_count": null,
   "id": "592ddc9f-d965-4766-bd7a-b3670fc23997",
   "metadata": {},
   "outputs": [],
   "source": []
  }
 ],
 "metadata": {
  "kernelspec": {
   "display_name": "Python 3 (ipykernel)",
   "language": "python",
   "name": "python3"
  },
  "language_info": {
   "codemirror_mode": {
    "name": "ipython",
    "version": 3
   },
   "file_extension": ".py",
   "mimetype": "text/x-python",
   "name": "python",
   "nbconvert_exporter": "python",
   "pygments_lexer": "ipython3",
   "version": "3.12.7"
  }
 },
 "nbformat": 4,
 "nbformat_minor": 5
}
